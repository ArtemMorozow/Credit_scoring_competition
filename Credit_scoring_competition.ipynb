{
  "cells": [
    {
      "cell_type": "markdown",
      "metadata": {
        "id": "6rEIpFy6nT8U"
      },
      "source": [
        "Всем привет! В данном ноутбуке представлено мое решение учебного [соревнования по кредитному скорингу](https://www.kaggle.com/competitions/findata-creditscoring/overview). Это чистовой вариант, так что тут не будет постоянной проверки датасета после малейшего изменения (черновик вам лучше не видеть, боюсь знающий человек ужаснется, когда увидит этого монстра 😅) Нам необходимо построить модель машинного обучения, которая на основании данных из заявления о выдаче кредита предсказывает, вернет ли заемщик этот кредит. Давайте ознакомимся с данными:\n",
        "\n",
        "* **Loan ID**: уникальный идентификатор кредита;\n",
        "* **Customer ID**: уникальный идентификатор клиента;\n",
        "* **Loan Status**: категориальный признак - кредит погашен (\"Fully Paid\") или не погашен (\"Charged Off\");\n",
        "* **Current Loan Amount**: размер кредита;\n",
        "* **Term**: срок кредита;\n",
        "* **Credit Score**: кредитный рейтинг - число от 0 до 800;\n",
        "* **Years in current job**: стаж на текущем месте работы;\n",
        "* **Home Ownership**: статус недвижимости - собственность (\"Own\"), ипотека (\"Home Mortgage\") или аренда (\"Rent\");\n",
        "* **Annual Income**: годовой доход;\n",
        "* **Purpose**: цель кредита;\n",
        "* **Monthly Debt**: размер ежемесячного платежа по текущим кредитам;\n",
        "* **Years of Credit History**: количество лет кредитной истории;\n",
        "* **Months since last delinquent**: количество месяцев с последнего нарушения условий кредита;\n",
        "* **Number of Open Accounts**: количество открытых кредитных карт;\n",
        "* **Number of Credit Problems**: количество кредитных проблем;\n",
        "* **Current Credit Balance**: суммарный текущий долг;\n",
        "* **Maximum Open Credit**: максимальный кредитный лимит из всех источников;\n",
        "* **Bankruptcies**: количество банкротств;\n",
        "* **Tax Liens**: количество нарушений налогового законодательства.\n"
      ]
    },
    {
      "cell_type": "code",
      "execution_count": null,
      "metadata": {
        "id": "OQOvclhLjR70"
      },
      "outputs": [],
      "source": [
        "import pandas as pd\n",
        "import numpy as np\n",
        "import seaborn as sns\n"
      ]
    },
    {
      "cell_type": "markdown",
      "metadata": {
        "id": "d5Cc38tkj5Gt"
      },
      "source": [
        "Загрузим **train** и **test**. Для удобства дальнейшей обработки добавим маркер **is_test**. "
      ]
    },
    {
      "cell_type": "code",
      "execution_count": null,
      "metadata": {
        "id": "udxQ9LCVjfvJ"
      },
      "outputs": [],
      "source": [
        "df_train = pd.read_csv(\"sample_data/credit_train.csv\")\n",
        "df_test = pd.read_csv(\"sample_data/credit_test.csv\")\n",
        "\n",
        "df_train[\"is_test\"] = False\n",
        "df_test[\"is_test\"] = True"
      ]
    },
    {
      "cell_type": "markdown",
      "metadata": {
        "id": "ojAZC_E43lje"
      },
      "source": [
        "Первым делом предлагаю дропнуть все дубликаты в тренировочной выборке. И соединить данные в один датасет."
      ]
    },
    {
      "cell_type": "code",
      "execution_count": null,
      "metadata": {
        "colab": {
          "base_uri": "https://localhost:8080/",
          "height": 714
        },
        "id": "8jGASrvM3l6V",
        "outputId": "cf584cda-ec6b-47e1-f0e4-a81d0e6a008f"
      },
      "outputs": [
        {
          "data": {
            "text/html": [
              "<div>\n",
              "<style scoped>\n",
              "    .dataframe tbody tr th:only-of-type {\n",
              "        vertical-align: middle;\n",
              "    }\n",
              "\n",
              "    .dataframe tbody tr th {\n",
              "        vertical-align: top;\n",
              "    }\n",
              "\n",
              "    .dataframe thead th {\n",
              "        text-align: right;\n",
              "    }\n",
              "</style>\n",
              "<table border=\"1\" class=\"dataframe\">\n",
              "  <thead>\n",
              "    <tr style=\"text-align: right;\">\n",
              "      <th></th>\n",
              "      <th>Loan ID</th>\n",
              "      <th>Customer ID</th>\n",
              "      <th>Loan Status</th>\n",
              "      <th>Current Loan Amount</th>\n",
              "      <th>Term</th>\n",
              "      <th>Credit Score</th>\n",
              "      <th>Annual Income</th>\n",
              "      <th>Years in current job</th>\n",
              "      <th>Home Ownership</th>\n",
              "      <th>Purpose</th>\n",
              "      <th>Monthly Debt</th>\n",
              "      <th>Years of Credit History</th>\n",
              "      <th>Months since last delinquent</th>\n",
              "      <th>Number of Open Accounts</th>\n",
              "      <th>Number of Credit Problems</th>\n",
              "      <th>Current Credit Balance</th>\n",
              "      <th>Maximum Open Credit</th>\n",
              "      <th>Bankruptcies</th>\n",
              "      <th>Tax Liens</th>\n",
              "      <th>is_test</th>\n",
              "    </tr>\n",
              "  </thead>\n",
              "  <tbody>\n",
              "    <tr>\n",
              "      <th>0</th>\n",
              "      <td>14dd8831-6af5-400b-83ec-68e61888a048</td>\n",
              "      <td>981165ec-3274-42f5-a3b4-d104041a9ca9</td>\n",
              "      <td>Fully Paid</td>\n",
              "      <td>445412</td>\n",
              "      <td>Short Term</td>\n",
              "      <td>709.0</td>\n",
              "      <td>1167493.0</td>\n",
              "      <td>8 years</td>\n",
              "      <td>Home Mortgage</td>\n",
              "      <td>Home Improvements</td>\n",
              "      <td>5214.74</td>\n",
              "      <td>17.2</td>\n",
              "      <td>NaN</td>\n",
              "      <td>6</td>\n",
              "      <td>1</td>\n",
              "      <td>228190</td>\n",
              "      <td>416746.0</td>\n",
              "      <td>1.0</td>\n",
              "      <td>0.0</td>\n",
              "      <td>False</td>\n",
              "    </tr>\n",
              "    <tr>\n",
              "      <th>1</th>\n",
              "      <td>4771cc26-131a-45db-b5aa-537ea4ba5342</td>\n",
              "      <td>2de017a3-2e01-49cb-a581-08169e83be29</td>\n",
              "      <td>Fully Paid</td>\n",
              "      <td>262328</td>\n",
              "      <td>Short Term</td>\n",
              "      <td>NaN</td>\n",
              "      <td>NaN</td>\n",
              "      <td>10+ years</td>\n",
              "      <td>Home Mortgage</td>\n",
              "      <td>Debt Consolidation</td>\n",
              "      <td>33295.98</td>\n",
              "      <td>21.1</td>\n",
              "      <td>8.0</td>\n",
              "      <td>35</td>\n",
              "      <td>0</td>\n",
              "      <td>229976</td>\n",
              "      <td>850784.0</td>\n",
              "      <td>0.0</td>\n",
              "      <td>0.0</td>\n",
              "      <td>False</td>\n",
              "    </tr>\n",
              "    <tr>\n",
              "      <th>2</th>\n",
              "      <td>4eed4e6a-aa2f-4c91-8651-ce984ee8fb26</td>\n",
              "      <td>5efb2b2b-bf11-4dfd-a572-3761a2694725</td>\n",
              "      <td>Fully Paid</td>\n",
              "      <td>99999999</td>\n",
              "      <td>Short Term</td>\n",
              "      <td>741.0</td>\n",
              "      <td>2231892.0</td>\n",
              "      <td>8 years</td>\n",
              "      <td>Own Home</td>\n",
              "      <td>Debt Consolidation</td>\n",
              "      <td>29200.53</td>\n",
              "      <td>14.9</td>\n",
              "      <td>29.0</td>\n",
              "      <td>18</td>\n",
              "      <td>1</td>\n",
              "      <td>297996</td>\n",
              "      <td>750090.0</td>\n",
              "      <td>0.0</td>\n",
              "      <td>0.0</td>\n",
              "      <td>False</td>\n",
              "    </tr>\n",
              "    <tr>\n",
              "      <th>3</th>\n",
              "      <td>77598f7b-32e7-4e3b-a6e5-06ba0d98fe8a</td>\n",
              "      <td>e777faab-98ae-45af-9a86-7ce5b33b1011</td>\n",
              "      <td>Fully Paid</td>\n",
              "      <td>347666</td>\n",
              "      <td>Long Term</td>\n",
              "      <td>721.0</td>\n",
              "      <td>806949.0</td>\n",
              "      <td>3 years</td>\n",
              "      <td>Own Home</td>\n",
              "      <td>Debt Consolidation</td>\n",
              "      <td>8741.90</td>\n",
              "      <td>12.0</td>\n",
              "      <td>NaN</td>\n",
              "      <td>9</td>\n",
              "      <td>0</td>\n",
              "      <td>256329</td>\n",
              "      <td>386958.0</td>\n",
              "      <td>0.0</td>\n",
              "      <td>0.0</td>\n",
              "      <td>False</td>\n",
              "    </tr>\n",
              "    <tr>\n",
              "      <th>4</th>\n",
              "      <td>d4062e70-befa-4995-8643-a0de73938182</td>\n",
              "      <td>81536ad9-5ccf-4eb8-befb-47a4d608658e</td>\n",
              "      <td>Fully Paid</td>\n",
              "      <td>176220</td>\n",
              "      <td>Short Term</td>\n",
              "      <td>NaN</td>\n",
              "      <td>NaN</td>\n",
              "      <td>5 years</td>\n",
              "      <td>Rent</td>\n",
              "      <td>Debt Consolidation</td>\n",
              "      <td>20639.70</td>\n",
              "      <td>6.1</td>\n",
              "      <td>NaN</td>\n",
              "      <td>15</td>\n",
              "      <td>0</td>\n",
              "      <td>253460</td>\n",
              "      <td>427174.0</td>\n",
              "      <td>0.0</td>\n",
              "      <td>0.0</td>\n",
              "      <td>False</td>\n",
              "    </tr>\n",
              "    <tr>\n",
              "      <th>...</th>\n",
              "      <td>...</td>\n",
              "      <td>...</td>\n",
              "      <td>...</td>\n",
              "      <td>...</td>\n",
              "      <td>...</td>\n",
              "      <td>...</td>\n",
              "      <td>...</td>\n",
              "      <td>...</td>\n",
              "      <td>...</td>\n",
              "      <td>...</td>\n",
              "      <td>...</td>\n",
              "      <td>...</td>\n",
              "      <td>...</td>\n",
              "      <td>...</td>\n",
              "      <td>...</td>\n",
              "      <td>...</td>\n",
              "      <td>...</td>\n",
              "      <td>...</td>\n",
              "      <td>...</td>\n",
              "      <td>...</td>\n",
              "    </tr>\n",
              "    <tr>\n",
              "      <th>9995</th>\n",
              "      <td>c4ab66f9-833c-43b8-879c-4f8bcb64dd14</td>\n",
              "      <td>8ee2002b-8fb6-4af0-ab74-25a1c23e7647</td>\n",
              "      <td>NaN</td>\n",
              "      <td>157806</td>\n",
              "      <td>Short Term</td>\n",
              "      <td>731.0</td>\n",
              "      <td>1514376.0</td>\n",
              "      <td>6 years</td>\n",
              "      <td>Rent</td>\n",
              "      <td>Debt Consolidation</td>\n",
              "      <td>4795.41</td>\n",
              "      <td>12.5</td>\n",
              "      <td>NaN</td>\n",
              "      <td>9</td>\n",
              "      <td>0</td>\n",
              "      <td>87058</td>\n",
              "      <td>234410.0</td>\n",
              "      <td>0.0</td>\n",
              "      <td>0.0</td>\n",
              "      <td>True</td>\n",
              "    </tr>\n",
              "    <tr>\n",
              "      <th>9996</th>\n",
              "      <td>bbd3a392-01b4-4e0e-9c28-b2a4a39beac7</td>\n",
              "      <td>6c306306-f5c2-4db5-b74a-af2895123ecb</td>\n",
              "      <td>NaN</td>\n",
              "      <td>132550</td>\n",
              "      <td>Short Term</td>\n",
              "      <td>718.0</td>\n",
              "      <td>763192.0</td>\n",
              "      <td>4 years</td>\n",
              "      <td>Home Mortgage</td>\n",
              "      <td>Debt Consolidation</td>\n",
              "      <td>12401.87</td>\n",
              "      <td>9.9</td>\n",
              "      <td>20.0</td>\n",
              "      <td>8</td>\n",
              "      <td>0</td>\n",
              "      <td>74309</td>\n",
              "      <td>329692.0</td>\n",
              "      <td>0.0</td>\n",
              "      <td>0.0</td>\n",
              "      <td>True</td>\n",
              "    </tr>\n",
              "    <tr>\n",
              "      <th>9997</th>\n",
              "      <td>da9870de-4280-46a3-8fc6-91cfe5bfde9d</td>\n",
              "      <td>cc94e25e-1060-4465-b603-194e122f0239</td>\n",
              "      <td>NaN</td>\n",
              "      <td>223212</td>\n",
              "      <td>Long Term</td>\n",
              "      <td>NaN</td>\n",
              "      <td>NaN</td>\n",
              "      <td>NaN</td>\n",
              "      <td>Rent</td>\n",
              "      <td>Debt Consolidation</td>\n",
              "      <td>4354.42</td>\n",
              "      <td>27.2</td>\n",
              "      <td>NaN</td>\n",
              "      <td>8</td>\n",
              "      <td>1</td>\n",
              "      <td>99636</td>\n",
              "      <td>568370.0</td>\n",
              "      <td>1.0</td>\n",
              "      <td>0.0</td>\n",
              "      <td>True</td>\n",
              "    </tr>\n",
              "    <tr>\n",
              "      <th>9998</th>\n",
              "      <td>0cc8e0e0-1bc6-49d7-ad0f-0598b647458f</td>\n",
              "      <td>f90cf410-a34b-49e7-8af9-2b405e17b827</td>\n",
              "      <td>NaN</td>\n",
              "      <td>99999999</td>\n",
              "      <td>Short Term</td>\n",
              "      <td>721.0</td>\n",
              "      <td>972097.0</td>\n",
              "      <td>10+ years</td>\n",
              "      <td>Home Mortgage</td>\n",
              "      <td>Debt Consolidation</td>\n",
              "      <td>12232.20</td>\n",
              "      <td>16.8</td>\n",
              "      <td>24.0</td>\n",
              "      <td>8</td>\n",
              "      <td>1</td>\n",
              "      <td>184984</td>\n",
              "      <td>240658.0</td>\n",
              "      <td>0.0</td>\n",
              "      <td>0.0</td>\n",
              "      <td>True</td>\n",
              "    </tr>\n",
              "    <tr>\n",
              "      <th>9999</th>\n",
              "      <td>14f94b64-26c4-48fd-b916-1388d7adcc1d</td>\n",
              "      <td>f1838fa9-7ad9-44d5-97a6-7a6d3f3529d7</td>\n",
              "      <td>NaN</td>\n",
              "      <td>99999999</td>\n",
              "      <td>Short Term</td>\n",
              "      <td>748.0</td>\n",
              "      <td>1079960.0</td>\n",
              "      <td>6 years</td>\n",
              "      <td>Home Mortgage</td>\n",
              "      <td>Debt Consolidation</td>\n",
              "      <td>12239.61</td>\n",
              "      <td>19.7</td>\n",
              "      <td>NaN</td>\n",
              "      <td>14</td>\n",
              "      <td>0</td>\n",
              "      <td>179018</td>\n",
              "      <td>607882.0</td>\n",
              "      <td>0.0</td>\n",
              "      <td>0.0</td>\n",
              "      <td>True</td>\n",
              "    </tr>\n",
              "  </tbody>\n",
              "</table>\n",
              "<p>99785 rows × 20 columns</p>\n",
              "</div>"
            ],
            "text/plain": [
              "                                   Loan ID  \\\n",
              "0     14dd8831-6af5-400b-83ec-68e61888a048   \n",
              "1     4771cc26-131a-45db-b5aa-537ea4ba5342   \n",
              "2     4eed4e6a-aa2f-4c91-8651-ce984ee8fb26   \n",
              "3     77598f7b-32e7-4e3b-a6e5-06ba0d98fe8a   \n",
              "4     d4062e70-befa-4995-8643-a0de73938182   \n",
              "...                                    ...   \n",
              "9995  c4ab66f9-833c-43b8-879c-4f8bcb64dd14   \n",
              "9996  bbd3a392-01b4-4e0e-9c28-b2a4a39beac7   \n",
              "9997  da9870de-4280-46a3-8fc6-91cfe5bfde9d   \n",
              "9998  0cc8e0e0-1bc6-49d7-ad0f-0598b647458f   \n",
              "9999  14f94b64-26c4-48fd-b916-1388d7adcc1d   \n",
              "\n",
              "                               Customer ID Loan Status  Current Loan Amount  \\\n",
              "0     981165ec-3274-42f5-a3b4-d104041a9ca9  Fully Paid               445412   \n",
              "1     2de017a3-2e01-49cb-a581-08169e83be29  Fully Paid               262328   \n",
              "2     5efb2b2b-bf11-4dfd-a572-3761a2694725  Fully Paid             99999999   \n",
              "3     e777faab-98ae-45af-9a86-7ce5b33b1011  Fully Paid               347666   \n",
              "4     81536ad9-5ccf-4eb8-befb-47a4d608658e  Fully Paid               176220   \n",
              "...                                    ...         ...                  ...   \n",
              "9995  8ee2002b-8fb6-4af0-ab74-25a1c23e7647         NaN               157806   \n",
              "9996  6c306306-f5c2-4db5-b74a-af2895123ecb         NaN               132550   \n",
              "9997  cc94e25e-1060-4465-b603-194e122f0239         NaN               223212   \n",
              "9998  f90cf410-a34b-49e7-8af9-2b405e17b827         NaN             99999999   \n",
              "9999  f1838fa9-7ad9-44d5-97a6-7a6d3f3529d7         NaN             99999999   \n",
              "\n",
              "            Term  Credit Score  Annual Income Years in current job  \\\n",
              "0     Short Term         709.0      1167493.0              8 years   \n",
              "1     Short Term           NaN            NaN            10+ years   \n",
              "2     Short Term         741.0      2231892.0              8 years   \n",
              "3      Long Term         721.0       806949.0              3 years   \n",
              "4     Short Term           NaN            NaN              5 years   \n",
              "...          ...           ...            ...                  ...   \n",
              "9995  Short Term         731.0      1514376.0              6 years   \n",
              "9996  Short Term         718.0       763192.0              4 years   \n",
              "9997   Long Term           NaN            NaN                  NaN   \n",
              "9998  Short Term         721.0       972097.0            10+ years   \n",
              "9999  Short Term         748.0      1079960.0              6 years   \n",
              "\n",
              "     Home Ownership             Purpose  Monthly Debt  \\\n",
              "0     Home Mortgage   Home Improvements       5214.74   \n",
              "1     Home Mortgage  Debt Consolidation      33295.98   \n",
              "2          Own Home  Debt Consolidation      29200.53   \n",
              "3          Own Home  Debt Consolidation       8741.90   \n",
              "4              Rent  Debt Consolidation      20639.70   \n",
              "...             ...                 ...           ...   \n",
              "9995           Rent  Debt Consolidation       4795.41   \n",
              "9996  Home Mortgage  Debt Consolidation      12401.87   \n",
              "9997           Rent  Debt Consolidation       4354.42   \n",
              "9998  Home Mortgage  Debt Consolidation      12232.20   \n",
              "9999  Home Mortgage  Debt Consolidation      12239.61   \n",
              "\n",
              "      Years of Credit History  Months since last delinquent  \\\n",
              "0                        17.2                           NaN   \n",
              "1                        21.1                           8.0   \n",
              "2                        14.9                          29.0   \n",
              "3                        12.0                           NaN   \n",
              "4                         6.1                           NaN   \n",
              "...                       ...                           ...   \n",
              "9995                     12.5                           NaN   \n",
              "9996                      9.9                          20.0   \n",
              "9997                     27.2                           NaN   \n",
              "9998                     16.8                          24.0   \n",
              "9999                     19.7                           NaN   \n",
              "\n",
              "      Number of Open Accounts  Number of Credit Problems  \\\n",
              "0                           6                          1   \n",
              "1                          35                          0   \n",
              "2                          18                          1   \n",
              "3                           9                          0   \n",
              "4                          15                          0   \n",
              "...                       ...                        ...   \n",
              "9995                        9                          0   \n",
              "9996                        8                          0   \n",
              "9997                        8                          1   \n",
              "9998                        8                          1   \n",
              "9999                       14                          0   \n",
              "\n",
              "      Current Credit Balance  Maximum Open Credit  Bankruptcies  Tax Liens  \\\n",
              "0                     228190             416746.0           1.0        0.0   \n",
              "1                     229976             850784.0           0.0        0.0   \n",
              "2                     297996             750090.0           0.0        0.0   \n",
              "3                     256329             386958.0           0.0        0.0   \n",
              "4                     253460             427174.0           0.0        0.0   \n",
              "...                      ...                  ...           ...        ...   \n",
              "9995                   87058             234410.0           0.0        0.0   \n",
              "9996                   74309             329692.0           0.0        0.0   \n",
              "9997                   99636             568370.0           1.0        0.0   \n",
              "9998                  184984             240658.0           0.0        0.0   \n",
              "9999                  179018             607882.0           0.0        0.0   \n",
              "\n",
              "      is_test  \n",
              "0       False  \n",
              "1       False  \n",
              "2       False  \n",
              "3       False  \n",
              "4       False  \n",
              "...       ...  \n",
              "9995     True  \n",
              "9996     True  \n",
              "9997     True  \n",
              "9998     True  \n",
              "9999     True  \n",
              "\n",
              "[99785 rows x 20 columns]"
            ]
          },
          "execution_count": 3,
          "metadata": {},
          "output_type": "execute_result"
        }
      ],
      "source": [
        "df_train = df_train.drop_duplicates()\n",
        "df = pd.concat([df_train, df_test])\n",
        "df"
      ]
    },
    {
      "cell_type": "markdown",
      "metadata": {
        "id": "HZTofzMpm3B_"
      },
      "source": [
        "Далее необходимо ознакомиться с пропусками в данных. Построим тепловую карту пропусков по всему датасету."
      ]
    },
    {
      "cell_type": "code",
      "execution_count": null,
      "metadata": {
        "colab": {
          "base_uri": "https://localhost:8080/",
          "height": 771
        },
        "id": "zoJIRMGqmskp",
        "outputId": "9c088244-70d0-4e5b-fd8b-9d94dc615868"
      },
      "outputs": [
        {
          "name": "stdout",
          "output_type": "stream",
          "text": [
            "Loan ID - 0%\n",
            "Customer ID - 0%\n",
            "Loan Status - 10%\n",
            "Current Loan Amount - 0%\n",
            "Term - 0%\n",
            "Credit Score - 21%\n",
            "Annual Income - 21%\n",
            "Years in current job - 4%\n",
            "Home Ownership - 0%\n",
            "Purpose - 0%\n",
            "Monthly Debt - 0%\n",
            "Years of Credit History - 0%\n",
            "Months since last delinquent - 54%\n",
            "Number of Open Accounts - 0%\n",
            "Number of Credit Problems - 0%\n",
            "Current Credit Balance - 0%\n",
            "Maximum Open Credit - 0%\n",
            "Bankruptcies - 0%\n",
            "Tax Liens - 0%\n",
            "is_test - 0%\n"
          ]
        },
        {
          "data": {
            "image/png": "[encoded data removed]",
            "text/plain": [
              "<Figure size 432x288 with 1 Axes>"
            ]
          },
          "metadata": {
            "needs_background": "light"
          },
          "output_type": "display_data"
        }
      ],
      "source": [
        "cols = df.columns \n",
        "sns.heatmap(df[cols].isnull(), cmap= 'coolwarm', cbar=False)\n",
        "\n",
        "for col in cols:\n",
        "    pct_missing = np.mean(df[col].isnull())\n",
        "    print('{} - {}%'.format(col, round(pct_missing*100)))"
      ]
    },
    {
      "cell_type": "markdown",
      "metadata": {
        "id": "yQoo_lLl0ZyD"
      },
      "source": [
        "**Months since last delinquent** имеет более 50% пропусков. Удалим эту фичу из исходного датасета."
      ]
    },
    {
      "cell_type": "code",
      "execution_count": null,
      "metadata": {
        "id": "_S6jKGeImPmA"
      },
      "outputs": [],
      "source": [
        "df = df.drop(['Months since last delinquent'], axis=1)"
      ]
    },
    {
      "cell_type": "markdown",
      "metadata": {
        "id": "zDMhVPCs1ksH"
      },
      "source": [
        "Пройдемся по численным признакам и заменим пропуски медианными оценками. **Credit score** пока трогать не будем, есть пара мыслей на его счет."
      ]
    },
    {
      "cell_type": "code",
      "execution_count": null,
      "metadata": {
        "colab": {
          "base_uri": "https://localhost:8080/"
        },
        "id": "mbgtN1G5ydEx",
        "outputId": "7684b7a5-3abd-4fa2-f02a-3699652e06d5"
      },
      "outputs": [
        {
          "name": "stdout",
          "output_type": "stream",
          "text": [
            "imputing missing values for: Annual Income\n",
            "imputing missing values for: Maximum Open Credit\n",
            "imputing missing values for: Bankruptcies\n",
            "imputing missing values for: Tax Liens\n"
          ]
        }
      ],
      "source": [
        "df_numeric = df.select_dtypes(include=[np.number])\n",
        "numeric_cols = df_numeric.columns.values\n",
        "for col in numeric_cols:\n",
        "    if col != 'Credit Score':\n",
        "        missing = df[col].isnull()\n",
        "        num_missing = np.sum(missing)\n",
        "    \n",
        "    if num_missing > 0: \n",
        "        print('imputing missing values for: {}'.format(col))\n",
        "        med = df[col].median()\n",
        "        df[col] = df[col].fillna(med)"
      ]
    },
    {
      "cell_type": "markdown",
      "metadata": {
        "id": "r5_nBDW12Pwq"
      },
      "source": [
        "Аналогично для категориальных, главное не заменить значения в **Loan Status**."
      ]
    },
    {
      "cell_type": "code",
      "execution_count": null,
      "metadata": {
        "colab": {
          "base_uri": "https://localhost:8080/"
        },
        "id": "3w085jqz2bCz",
        "outputId": "24201bb1-32f2-4d21-a951-1638456834cf"
      },
      "outputs": [
        {
          "name": "stdout",
          "output_type": "stream",
          "text": [
            "imputing missing values for: Years in current job\n"
          ]
        }
      ],
      "source": [
        "df_non_numeric = df.select_dtypes(exclude=[np.number])\n",
        "non_numeric_cols = df_non_numeric.columns.values\n",
        "for col in non_numeric_cols:\n",
        "    missing = df[col].isnull()\n",
        "    num_missing = np.sum(missing)\n",
        "    \n",
        "    if num_missing > 0 and num_missing != 10000: \n",
        "        print('imputing missing values for: {}'.format(col))\n",
        "        \n",
        "        top = df[col].describe()['top'] \n",
        "        df[col] = df[col].fillna(top)"
      ]
    },
    {
      "cell_type": "markdown",
      "metadata": {
        "id": "Sp9Oy6WI2fLK"
      },
      "source": [
        "Теперь давайте взглянем на малоинформативные столбцы. "
      ]
    },
    {
      "cell_type": "code",
      "execution_count": null,
      "metadata": {
        "colab": {
          "base_uri": "https://localhost:8080/"
        },
        "id": "_fc0I3ll2bwh",
        "outputId": "932740ab-0c3b-48ef-a9c5-372a068f8362"
      },
      "outputs": [
        {
          "name": "stdout",
          "output_type": "stream",
          "text": [
            "Tax Liens: 98.12096%\n",
            "0.0     97910\n",
            "1.0      1305\n",
            "2.0       354\n",
            "3.0       113\n",
            "4.0        60\n",
            "5.0        17\n",
            "6.0        10\n",
            "7.0         6\n",
            "9.0         5\n",
            "8.0         2\n",
            "11.0        1\n",
            "15.0        1\n",
            "10.0        1\n",
            "Name: Tax Liens, dtype: int64\n",
            "\n"
          ]
        }
      ],
      "source": [
        "num_rows = len(df.index)\n",
        "low_information_cols = [] #\n",
        "for col in df.columns:\n",
        "    cnts = df[col].value_counts(dropna=False)\n",
        "    top_pct = (cnts/num_rows).iloc[0]\n",
        "    \n",
        "    if top_pct > 0.95:\n",
        "        low_information_cols.append(col)\n",
        "        print('{0}: {1:.5f}%'.format(col, top_pct*100))\n",
        "        print(cnts)\n",
        "        print()"
      ]
    },
    {
      "cell_type": "markdown",
      "metadata": {
        "id": "CIqvKzj77qEp"
      },
      "source": [
        "Давайте удалим его."
      ]
    },
    {
      "cell_type": "code",
      "execution_count": null,
      "metadata": {
        "id": "3HDnypPR2hXl"
      },
      "outputs": [],
      "source": [
        "df = df.drop(['Tax Liens'], axis=1)"
      ]
    },
    {
      "cell_type": "markdown",
      "metadata": {
        "id": "xdWE8doQ75Wd"
      },
      "source": [
        "Далее ознакомимся со зачениями некоторых категориальных столбцев. Может быть найдем что-то интересное)"
      ]
    },
    {
      "cell_type": "code",
      "execution_count": null,
      "metadata": {
        "colab": {
          "base_uri": "https://localhost:8080/"
        },
        "id": "psiStenH70fV",
        "outputId": "ceffd9cb-7a2c-4bb1-d2cb-5f71c35b6016"
      },
      "outputs": [
        {
          "data": {
            "text/plain": [
              "Short Term    73318\n",
              "Long Term     26467\n",
              "Name: Term, dtype: int64"
            ]
          },
          "execution_count": 10,
          "metadata": {},
          "output_type": "execute_result"
        }
      ],
      "source": [
        "df['Term'].value_counts(dropna=False)"
      ]
    },
    {
      "cell_type": "code",
      "execution_count": null,
      "metadata": {
        "colab": {
          "base_uri": "https://localhost:8080/"
        },
        "id": "yX-mcTd18Efd",
        "outputId": "f1f663e9-f38a-4834-c025-c4f5f27a1b53"
      },
      "outputs": [
        {
          "data": {
            "text/plain": [
              "Home Mortgage    48415\n",
              "Rent             42058\n",
              "Own Home          9113\n",
              "HaveMortgage       199\n",
              "Name: Home Ownership, dtype: int64"
            ]
          },
          "execution_count": 11,
          "metadata": {},
          "output_type": "execute_result"
        }
      ],
      "source": [
        "df['Home Ownership'].value_counts(dropna=False)"
      ]
    },
    {
      "cell_type": "code",
      "execution_count": null,
      "metadata": {
        "colab": {
          "base_uri": "https://localhost:8080/"
        },
        "id": "uw9nFW338GWv",
        "outputId": "e4b457be-010d-4217-dbcf-f3b381dcb53d"
      },
      "outputs": [
        {
          "data": {
            "text/plain": [
              "Debt Consolidation      78712\n",
              "Home Improvements        5830\n",
              "other                    5796\n",
              "Other                    3190\n",
              "Business Loan            1529\n",
              "Buy a Car                1307\n",
              "Medical Bills            1096\n",
              "Buy House                 652\n",
              "Take a Trip               532\n",
              "major_purchase            382\n",
              "small_business            286\n",
              "moving                    149\n",
              "wedding                   115\n",
              "Educational Expenses      105\n",
              "vacation                   95\n",
              "renewable_energy            9\n",
              "Name: Purpose, dtype: int64"
            ]
          },
          "execution_count": 12,
          "metadata": {},
          "output_type": "execute_result"
        }
      ],
      "source": [
        "df['Purpose'].value_counts(dropna=False)"
      ]
    },
    {
      "cell_type": "code",
      "execution_count": null,
      "metadata": {
        "colab": {
          "base_uri": "https://localhost:8080/"
        },
        "id": "WM2KpqjMCqXR",
        "outputId": "2c0141f0-340c-4fbd-ec2e-cbf652d0877c"
      },
      "outputs": [
        {
          "data": {
            "text/plain": [
              "10+ years    35069\n",
              "2 years       9170\n",
              "3 years       8205\n",
              "< 1 year      8160\n",
              "5 years       6832\n",
              "1 year        6480\n",
              "4 years       6124\n",
              "6 years       5700\n",
              "7 years       5543\n",
              "8 years       4593\n",
              "9 years       3909\n",
              "Name: Years in current job, dtype: int64"
            ]
          },
          "execution_count": 13,
          "metadata": {},
          "output_type": "execute_result"
        }
      ],
      "source": [
        "df['Years in current job'].value_counts(dropna=False)"
      ]
    },
    {
      "cell_type": "markdown",
      "metadata": {
        "id": "rRqzvByV8x6z"
      },
      "source": [
        "Меня заинтересовал признак **Purpose**. Целей для взятия кредита слишком много, можно попробовать их как-то классифицировать."
      ]
    },
    {
      "cell_type": "markdown",
      "metadata": {
        "id": "CZZSWu7b_kc8"
      },
      "source": [
        "Потребительские кредиты:"
      ]
    },
    {
      "cell_type": "code",
      "execution_count": null,
      "metadata": {
        "id": "j2yPDYgY8WQw"
      },
      "outputs": [],
      "source": [
        "df.loc[df['Purpose']=='Home Improvements', 'Purpose'] = 'Consumer credit'\n",
        "df.loc[df['Purpose']=='Buy a Car', 'Purpose'] = 'Consumer credit'\n",
        "df.loc[df['Purpose']=='Buy House', 'Purpose'] = 'Consumer credit'\n",
        "df.loc[df['Purpose']=='Take a Trip', 'Purpose'] = 'Consumer credit'\n",
        "df.loc[df['Purpose']=='major_purchase', 'Purpose'] = 'Consumer credit'\n",
        "df.loc[df['Purpose']=='moving', 'Purpose'] = 'Consumer credit'\n",
        "df.loc[df['Purpose']=='wedding', 'Purpose'] = 'Consumer credit'\n",
        "df.loc[df['Purpose']=='Educational Expenses', 'Purpose'] = 'Consumer credit'\n",
        "df.loc[df['Purpose']=='vacation', 'Purpose'] = 'Consumer credit'\n",
        "df.loc[df['Purpose']=='Medical Bills', 'Purpose'] = 'Consumer credit'"
      ]
    },
    {
      "cell_type": "markdown",
      "metadata": {
        "id": "zzt-OQOBAUa6"
      },
      "source": [
        "Кредиты на бизнес:"
      ]
    },
    {
      "cell_type": "code",
      "execution_count": null,
      "metadata": {
        "id": "LXEYVcFr_qRj"
      },
      "outputs": [],
      "source": [
        "df.loc[df['Purpose']=='Business Loan', 'Purpose'] = 'Business'\n",
        "df.loc[df['Purpose']=='small_business', 'Purpose'] = 'Business'\n",
        "df.loc[df['Purpose']=='renewable_energy', 'Purpose'] = 'Business'"
      ]
    },
    {
      "cell_type": "markdown",
      "metadata": {
        "id": "G7P53xnYAuQA"
      },
      "source": [
        "В даннах 2 разные записи для прочих целей (**other** и **Other**): "
      ]
    },
    {
      "cell_type": "code",
      "execution_count": null,
      "metadata": {
        "id": "CM09SkdEAtLs"
      },
      "outputs": [],
      "source": [
        "df.loc[df['Purpose']=='other', 'Purpose'] = 'Other'"
      ]
    },
    {
      "cell_type": "code",
      "execution_count": null,
      "metadata": {
        "colab": {
          "base_uri": "https://localhost:8080/"
        },
        "id": "pqJ4yeYxFD8r",
        "outputId": "861fafec-8ebc-43a3-98e6-e88c293e0d15"
      },
      "outputs": [
        {
          "data": {
            "text/plain": [
              "Debt Consolidation    78712\n",
              "Consumer credit       10263\n",
              "Other                  8986\n",
              "Business               1824\n",
              "Name: Purpose, dtype: int64"
            ]
          },
          "execution_count": 17,
          "metadata": {},
          "output_type": "execute_result"
        }
      ],
      "source": [
        "df['Purpose'].value_counts(dropna=False)"
      ]
    },
    {
      "cell_type": "markdown",
      "metadata": {
        "id": "E44sCTn-D65j"
      },
      "source": [
        "Далее перейдем к признаку **Years in current job**. Разобьем стаж работы на 4 группы."
      ]
    },
    {
      "cell_type": "code",
      "execution_count": null,
      "metadata": {
        "id": "hMVMB-0CD6m6"
      },
      "outputs": [],
      "source": [
        "df.loc[df['Years in current job']=='1 year', 'Years in current job'] = '1-6 years'\n",
        "df.loc[df['Years in current job']=='2 years', 'Years in current job'] = '1-6 years'\n",
        "df.loc[df['Years in current job']=='3 years', 'Years in current job'] = '1-6 years'\n",
        "df.loc[df['Years in current job']=='4 years', 'Years in current job'] = '1-6 years'\n",
        "df.loc[df['Years in current job']=='5 years', 'Years in current job'] = '1-6 years'\n",
        "\n",
        "df.loc[df['Years in current job']=='6 years', 'Years in current job'] = '6-10 years'\n",
        "df.loc[df['Years in current job']=='7 years', 'Years in current job'] = '6-10 years'\n",
        "df.loc[df['Years in current job']=='8 years', 'Years in current job'] = '6-10 years'\n",
        "df.loc[df['Years in current job']=='9 years', 'Years in current job'] = '6-10 years'"
      ]
    },
    {
      "cell_type": "code",
      "execution_count": null,
      "metadata": {
        "colab": {
          "base_uri": "https://localhost:8080/"
        },
        "id": "FY3K_yz0BIR4",
        "outputId": "baeaf6aa-6a98-4cac-9c32-2fe4150c489e"
      },
      "outputs": [
        {
          "data": {
            "text/plain": [
              "1-6 years     36811\n",
              "10+ years     35069\n",
              "6-10 years    19745\n",
              "< 1 year       8160\n",
              "Name: Years in current job, dtype: int64"
            ]
          },
          "execution_count": 19,
          "metadata": {},
          "output_type": "execute_result"
        }
      ],
      "source": [
        "df['Years in current job'].value_counts(dropna=False)"
      ]
    },
    {
      "cell_type": "markdown",
      "metadata": {
        "id": "aWh7V2I_Fz-r"
      },
      "source": [
        "Что же дальше? Уже забыли про **Score**? Очевидно, что этот признак будет влиять на предсказание нашей модели наибольшим образом. В данном случае заменить пропущенные значения медианами - плохая идея. У меня возникла мысль! Почему бы нам не попробовать предсказать этот скор, а потом уже целевую переменную?\n"
      ]
    },
    {
      "cell_type": "markdown",
      "metadata": {
        "id": "QIrwVCIcHJdf"
      },
      "source": [
        "Разобьем все фичи на числовые и категориальные."
      ]
    },
    {
      "cell_type": "code",
      "execution_count": null,
      "metadata": {
        "colab": {
          "base_uri": "https://localhost:8080/"
        },
        "id": "rwp2fe_PRDuL",
        "outputId": "e6ea799a-d27d-4d41-a03c-31e544e18858"
      },
      "outputs": [
        {
          "name": "stdout",
          "output_type": "stream",
          "text": [
            "['Current Loan Amount' 'Credit Score' 'Annual Income' 'Monthly Debt'\n",
            " 'Years of Credit History' 'Number of Open Accounts'\n",
            " 'Number of Credit Problems' 'Current Credit Balance'\n",
            " 'Maximum Open Credit' 'Bankruptcies']\n",
            "['Loan ID' 'Customer ID' 'Loan Status' 'Term' 'Years in current job'\n",
            " 'Home Ownership' 'Purpose' 'is_test']\n"
          ]
        }
      ],
      "source": [
        "df_numeric = df.select_dtypes(include=[np.number])\n",
        "numeric_cols = df_numeric.columns.values\n",
        "print(numeric_cols)\n",
        "\n",
        "df_non_numeric = df.select_dtypes(exclude=[np.number])\n",
        "non_numeric_cols = df_non_numeric.columns.values\n",
        "print(non_numeric_cols)"
      ]
    },
    {
      "cell_type": "markdown",
      "metadata": {
        "id": "Nvmf_u53R5MI"
      },
      "source": [
        "Нормализуем числовые признаки, категориальные закодируем с помощью **one-hot** кодирования."
      ]
    },
    {
      "cell_type": "code",
      "execution_count": null,
      "metadata": {
        "colab": {
          "base_uri": "https://localhost:8080/",
          "height": 626
        },
        "id": "jRx3ia56RNdj",
        "outputId": "da24da4a-2761-418a-d2b8-dab2223ea651"
      },
      "outputs": [
        {
          "name": "stdout",
          "output_type": "stream",
          "text": [
            "Current Loan Amount\n",
            "Term\n",
            "Credit Score\n",
            "Annual Income\n",
            "Years in current job\n",
            "Home Ownership\n",
            "Purpose\n",
            "Monthly Debt\n",
            "Years of Credit History\n",
            "Number of Open Accounts\n",
            "Number of Credit Problems\n",
            "Current Credit Balance\n",
            "Maximum Open Credit\n",
            "Bankruptcies\n"
          ]
        },
        {
          "data": {
            "text/html": [
              "<div>\n",
              "<style scoped>\n",
              "    .dataframe tbody tr th:only-of-type {\n",
              "        vertical-align: middle;\n",
              "    }\n",
              "\n",
              "    .dataframe tbody tr th {\n",
              "        vertical-align: top;\n",
              "    }\n",
              "\n",
              "    .dataframe thead th {\n",
              "        text-align: right;\n",
              "    }\n",
              "</style>\n",
              "<table border=\"1\" class=\"dataframe\">\n",
              "  <thead>\n",
              "    <tr style=\"text-align: right;\">\n",
              "      <th></th>\n",
              "      <th>Current Loan Amount</th>\n",
              "      <th>Credit Score</th>\n",
              "      <th>Annual Income</th>\n",
              "      <th>Monthly Debt</th>\n",
              "      <th>Years of Credit History</th>\n",
              "      <th>Number of Open Accounts</th>\n",
              "      <th>Number of Credit Problems</th>\n",
              "      <th>Current Credit Balance</th>\n",
              "      <th>Maximum Open Credit</th>\n",
              "      <th>Bankruptcies</th>\n",
              "      <th>...</th>\n",
              "      <th>Years in current job_6-10 years</th>\n",
              "      <th>Years in current job_&lt; 1 year</th>\n",
              "      <th>Home Ownership_HaveMortgage</th>\n",
              "      <th>Home Ownership_Home Mortgage</th>\n",
              "      <th>Home Ownership_Own Home</th>\n",
              "      <th>Home Ownership_Rent</th>\n",
              "      <th>Purpose_Business</th>\n",
              "      <th>Purpose_Consumer credit</th>\n",
              "      <th>Purpose_Debt Consolidation</th>\n",
              "      <th>Purpose_Other</th>\n",
              "    </tr>\n",
              "  </thead>\n",
              "  <tbody>\n",
              "    <tr>\n",
              "      <th>0</th>\n",
              "      <td>-0.376355</td>\n",
              "      <td>709.0</td>\n",
              "      <td>-0.169863</td>\n",
              "      <td>-1.083356</td>\n",
              "      <td>-0.148924</td>\n",
              "      <td>-1.023598</td>\n",
              "      <td>1.738236</td>\n",
              "      <td>-0.175240</td>\n",
              "      <td>-0.041813</td>\n",
              "      <td>2.543570</td>\n",
              "      <td>...</td>\n",
              "      <td>1</td>\n",
              "      <td>0</td>\n",
              "      <td>0</td>\n",
              "      <td>1</td>\n",
              "      <td>0</td>\n",
              "      <td>0</td>\n",
              "      <td>0</td>\n",
              "      <td>1</td>\n",
              "      <td>0</td>\n",
              "      <td>0</td>\n",
              "    </tr>\n",
              "    <tr>\n",
              "      <th>1</th>\n",
              "      <td>-0.381881</td>\n",
              "      <td>NaN</td>\n",
              "      <td>-0.168623</td>\n",
              "      <td>1.223883</td>\n",
              "      <td>0.405612</td>\n",
              "      <td>4.774886</td>\n",
              "      <td>-0.343571</td>\n",
              "      <td>-0.170462</td>\n",
              "      <td>0.010035</td>\n",
              "      <td>-0.331716</td>\n",
              "      <td>...</td>\n",
              "      <td>0</td>\n",
              "      <td>0</td>\n",
              "      <td>0</td>\n",
              "      <td>1</td>\n",
              "      <td>0</td>\n",
              "      <td>0</td>\n",
              "      <td>0</td>\n",
              "      <td>0</td>\n",
              "      <td>1</td>\n",
              "      <td>0</td>\n",
              "    </tr>\n",
              "    <tr>\n",
              "      <th>2</th>\n",
              "      <td>2.628419</td>\n",
              "      <td>741.0</td>\n",
              "      <td>0.932798</td>\n",
              "      <td>0.887389</td>\n",
              "      <td>-0.475958</td>\n",
              "      <td>1.375775</td>\n",
              "      <td>1.738236</td>\n",
              "      <td>0.011481</td>\n",
              "      <td>-0.001994</td>\n",
              "      <td>-0.331716</td>\n",
              "      <td>...</td>\n",
              "      <td>1</td>\n",
              "      <td>0</td>\n",
              "      <td>0</td>\n",
              "      <td>0</td>\n",
              "      <td>1</td>\n",
              "      <td>0</td>\n",
              "      <td>0</td>\n",
              "      <td>0</td>\n",
              "      <td>1</td>\n",
              "      <td>0</td>\n",
              "    </tr>\n",
              "    <tr>\n",
              "      <th>3</th>\n",
              "      <td>-0.379306</td>\n",
              "      <td>721.0</td>\n",
              "      <td>-0.543368</td>\n",
              "      <td>-0.793554</td>\n",
              "      <td>-0.888305</td>\n",
              "      <td>-0.423754</td>\n",
              "      <td>-0.343571</td>\n",
              "      <td>-0.099972</td>\n",
              "      <td>-0.045371</td>\n",
              "      <td>-0.331716</td>\n",
              "      <td>...</td>\n",
              "      <td>0</td>\n",
              "      <td>0</td>\n",
              "      <td>0</td>\n",
              "      <td>0</td>\n",
              "      <td>1</td>\n",
              "      <td>0</td>\n",
              "      <td>0</td>\n",
              "      <td>0</td>\n",
              "      <td>1</td>\n",
              "      <td>0</td>\n",
              "    </tr>\n",
              "    <tr>\n",
              "      <th>4</th>\n",
              "      <td>-0.384480</td>\n",
              "      <td>NaN</td>\n",
              "      <td>-0.168623</td>\n",
              "      <td>0.184005</td>\n",
              "      <td>-1.727218</td>\n",
              "      <td>0.775932</td>\n",
              "      <td>-0.343571</td>\n",
              "      <td>-0.107646</td>\n",
              "      <td>-0.040567</td>\n",
              "      <td>-0.331716</td>\n",
              "      <td>...</td>\n",
              "      <td>0</td>\n",
              "      <td>0</td>\n",
              "      <td>0</td>\n",
              "      <td>0</td>\n",
              "      <td>0</td>\n",
              "      <td>1</td>\n",
              "      <td>0</td>\n",
              "      <td>0</td>\n",
              "      <td>1</td>\n",
              "      <td>0</td>\n",
              "    </tr>\n",
              "  </tbody>\n",
              "</table>\n",
              "<p>5 rows × 24 columns</p>\n",
              "</div>"
            ],
            "text/plain": [
              "   Current Loan Amount  Credit Score  Annual Income  Monthly Debt  \\\n",
              "0            -0.376355         709.0      -0.169863     -1.083356   \n",
              "1            -0.381881           NaN      -0.168623      1.223883   \n",
              "2             2.628419         741.0       0.932798      0.887389   \n",
              "3            -0.379306         721.0      -0.543368     -0.793554   \n",
              "4            -0.384480           NaN      -0.168623      0.184005   \n",
              "\n",
              "   Years of Credit History  Number of Open Accounts  \\\n",
              "0                -0.148924                -1.023598   \n",
              "1                 0.405612                 4.774886   \n",
              "2                -0.475958                 1.375775   \n",
              "3                -0.888305                -0.423754   \n",
              "4                -1.727218                 0.775932   \n",
              "\n",
              "   Number of Credit Problems  Current Credit Balance  Maximum Open Credit  \\\n",
              "0                   1.738236               -0.175240            -0.041813   \n",
              "1                  -0.343571               -0.170462             0.010035   \n",
              "2                   1.738236                0.011481            -0.001994   \n",
              "3                  -0.343571               -0.099972            -0.045371   \n",
              "4                  -0.343571               -0.107646            -0.040567   \n",
              "\n",
              "   Bankruptcies  ...  Years in current job_6-10 years  \\\n",
              "0      2.543570  ...                                1   \n",
              "1     -0.331716  ...                                0   \n",
              "2     -0.331716  ...                                1   \n",
              "3     -0.331716  ...                                0   \n",
              "4     -0.331716  ...                                0   \n",
              "\n",
              "   Years in current job_< 1 year  Home Ownership_HaveMortgage  \\\n",
              "0                              0                            0   \n",
              "1                              0                            0   \n",
              "2                              0                            0   \n",
              "3                              0                            0   \n",
              "4                              0                            0   \n",
              "\n",
              "   Home Ownership_Home Mortgage  Home Ownership_Own Home  Home Ownership_Rent  \\\n",
              "0                             1                        0                    0   \n",
              "1                             1                        0                    0   \n",
              "2                             0                        1                    0   \n",
              "3                             0                        1                    0   \n",
              "4                             0                        0                    1   \n",
              "\n",
              "   Purpose_Business  Purpose_Consumer credit  Purpose_Debt Consolidation  \\\n",
              "0                 0                        1                           0   \n",
              "1                 0                        0                           1   \n",
              "2                 0                        0                           1   \n",
              "3                 0                        0                           1   \n",
              "4                 0                        0                           1   \n",
              "\n",
              "   Purpose_Other  \n",
              "0              0  \n",
              "1              0  \n",
              "2              0  \n",
              "3              0  \n",
              "4              0  \n",
              "\n",
              "[5 rows x 24 columns]"
            ]
          },
          "execution_count": 21,
          "metadata": {},
          "output_type": "execute_result"
        }
      ],
      "source": [
        "from sklearn.preprocessing import StandardScaler\n",
        "\n",
        "markers = df[['Loan Status', \"is_test\"]]\n",
        "temp_df = df.drop(['Loan ID', 'Customer ID', 'Loan Status', \"is_test\"], axis=1)\n",
        "object= StandardScaler()\n",
        "\n",
        "for col in temp_df.columns:\n",
        "    print(col)\n",
        "    if col in numeric_cols and col != 'Credit Score':\n",
        "        temp_df[col] = object.fit_transform(temp_df[[col]])\n",
        "    if col in non_numeric_cols:\n",
        "        temp_df = pd.concat([temp_df, pd.get_dummies(temp_df[col], prefix=col)], axis=1)\n",
        "        temp_df = temp_df.drop([col], axis=1)\n",
        "temp_df.head()"
      ]
    },
    {
      "cell_type": "markdown",
      "metadata": {
        "id": "XsDNtvnsnXTI"
      },
      "source": [
        "Выберем из датасета только те записи, в которых не содержатся пропуски. Также удалим некоторые выбросы и нормализуем."
      ]
    },
    {
      "cell_type": "code",
      "execution_count": null,
      "metadata": {
        "colab": {
          "base_uri": "https://localhost:8080/",
          "height": 369
        },
        "id": "qZTMfbwPTuxp",
        "outputId": "abe2512f-576a-4243-ad71-5112b2529629"
      },
      "outputs": [
        {
          "data": {
            "text/html": [
              "<div>\n",
              "<style scoped>\n",
              "    .dataframe tbody tr th:only-of-type {\n",
              "        vertical-align: middle;\n",
              "    }\n",
              "\n",
              "    .dataframe tbody tr th {\n",
              "        vertical-align: top;\n",
              "    }\n",
              "\n",
              "    .dataframe thead th {\n",
              "        text-align: right;\n",
              "    }\n",
              "</style>\n",
              "<table border=\"1\" class=\"dataframe\">\n",
              "  <thead>\n",
              "    <tr style=\"text-align: right;\">\n",
              "      <th></th>\n",
              "      <th>Current Loan Amount</th>\n",
              "      <th>Credit Score</th>\n",
              "      <th>Annual Income</th>\n",
              "      <th>Monthly Debt</th>\n",
              "      <th>Years of Credit History</th>\n",
              "      <th>Number of Open Accounts</th>\n",
              "      <th>Number of Credit Problems</th>\n",
              "      <th>Current Credit Balance</th>\n",
              "      <th>Maximum Open Credit</th>\n",
              "      <th>Bankruptcies</th>\n",
              "      <th>...</th>\n",
              "      <th>Years in current job_6-10 years</th>\n",
              "      <th>Years in current job_&lt; 1 year</th>\n",
              "      <th>Home Ownership_HaveMortgage</th>\n",
              "      <th>Home Ownership_Home Mortgage</th>\n",
              "      <th>Home Ownership_Own Home</th>\n",
              "      <th>Home Ownership_Rent</th>\n",
              "      <th>Purpose_Business</th>\n",
              "      <th>Purpose_Consumer credit</th>\n",
              "      <th>Purpose_Debt Consolidation</th>\n",
              "      <th>Purpose_Other</th>\n",
              "    </tr>\n",
              "  </thead>\n",
              "  <tbody>\n",
              "    <tr>\n",
              "      <th>0</th>\n",
              "      <td>-0.376355</td>\n",
              "      <td>-0.354558</td>\n",
              "      <td>-0.169863</td>\n",
              "      <td>-1.083356</td>\n",
              "      <td>-0.148924</td>\n",
              "      <td>-1.023598</td>\n",
              "      <td>1.738236</td>\n",
              "      <td>-0.175240</td>\n",
              "      <td>-0.041813</td>\n",
              "      <td>2.543570</td>\n",
              "      <td>...</td>\n",
              "      <td>1</td>\n",
              "      <td>0</td>\n",
              "      <td>0</td>\n",
              "      <td>1</td>\n",
              "      <td>0</td>\n",
              "      <td>0</td>\n",
              "      <td>0</td>\n",
              "      <td>1</td>\n",
              "      <td>0</td>\n",
              "      <td>0</td>\n",
              "    </tr>\n",
              "    <tr>\n",
              "      <th>2</th>\n",
              "      <td>2.628419</td>\n",
              "      <td>0.792636</td>\n",
              "      <td>0.932798</td>\n",
              "      <td>0.887389</td>\n",
              "      <td>-0.475958</td>\n",
              "      <td>1.375775</td>\n",
              "      <td>1.738236</td>\n",
              "      <td>0.011481</td>\n",
              "      <td>-0.001994</td>\n",
              "      <td>-0.331716</td>\n",
              "      <td>...</td>\n",
              "      <td>1</td>\n",
              "      <td>0</td>\n",
              "      <td>0</td>\n",
              "      <td>0</td>\n",
              "      <td>1</td>\n",
              "      <td>0</td>\n",
              "      <td>0</td>\n",
              "      <td>0</td>\n",
              "      <td>1</td>\n",
              "      <td>0</td>\n",
              "    </tr>\n",
              "    <tr>\n",
              "      <th>3</th>\n",
              "      <td>-0.379306</td>\n",
              "      <td>0.075640</td>\n",
              "      <td>-0.543368</td>\n",
              "      <td>-0.793554</td>\n",
              "      <td>-0.888305</td>\n",
              "      <td>-0.423754</td>\n",
              "      <td>-0.343571</td>\n",
              "      <td>-0.099972</td>\n",
              "      <td>-0.045371</td>\n",
              "      <td>-0.331716</td>\n",
              "      <td>...</td>\n",
              "      <td>0</td>\n",
              "      <td>0</td>\n",
              "      <td>0</td>\n",
              "      <td>0</td>\n",
              "      <td>1</td>\n",
              "      <td>0</td>\n",
              "      <td>0</td>\n",
              "      <td>0</td>\n",
              "      <td>1</td>\n",
              "      <td>0</td>\n",
              "    </tr>\n",
              "    <tr>\n",
              "      <th>6</th>\n",
              "      <td>-0.383230</td>\n",
              "      <td>0.398288</td>\n",
              "      <td>-0.152562</td>\n",
              "      <td>-0.619929</td>\n",
              "      <td>0.192329</td>\n",
              "      <td>0.376036</td>\n",
              "      <td>1.738236</td>\n",
              "      <td>-0.458827</td>\n",
              "      <td>-0.059097</td>\n",
              "      <td>2.543570</td>\n",
              "      <td>...</td>\n",
              "      <td>0</td>\n",
              "      <td>1</td>\n",
              "      <td>0</td>\n",
              "      <td>1</td>\n",
              "      <td>0</td>\n",
              "      <td>0</td>\n",
              "      <td>0</td>\n",
              "      <td>0</td>\n",
              "      <td>1</td>\n",
              "      <td>0</td>\n",
              "    </tr>\n",
              "    <tr>\n",
              "      <th>8</th>\n",
              "      <td>-0.373237</td>\n",
              "      <td>-1.465903</td>\n",
              "      <td>1.271779</td>\n",
              "      <td>0.021370</td>\n",
              "      <td>0.618895</td>\n",
              "      <td>-1.423493</td>\n",
              "      <td>-0.343571</td>\n",
              "      <td>0.383752</td>\n",
              "      <td>-0.025293</td>\n",
              "      <td>-0.331716</td>\n",
              "      <td>...</td>\n",
              "      <td>0</td>\n",
              "      <td>0</td>\n",
              "      <td>0</td>\n",
              "      <td>0</td>\n",
              "      <td>0</td>\n",
              "      <td>1</td>\n",
              "      <td>0</td>\n",
              "      <td>0</td>\n",
              "      <td>1</td>\n",
              "      <td>0</td>\n",
              "    </tr>\n",
              "  </tbody>\n",
              "</table>\n",
              "<p>5 rows × 24 columns</p>\n",
              "</div>"
            ],
            "text/plain": [
              "   Current Loan Amount  Credit Score  Annual Income  Monthly Debt  \\\n",
              "0            -0.376355     -0.354558      -0.169863     -1.083356   \n",
              "2             2.628419      0.792636       0.932798      0.887389   \n",
              "3            -0.379306      0.075640      -0.543368     -0.793554   \n",
              "6            -0.383230      0.398288      -0.152562     -0.619929   \n",
              "8            -0.373237     -1.465903       1.271779      0.021370   \n",
              "\n",
              "   Years of Credit History  Number of Open Accounts  \\\n",
              "0                -0.148924                -1.023598   \n",
              "2                -0.475958                 1.375775   \n",
              "3                -0.888305                -0.423754   \n",
              "6                 0.192329                 0.376036   \n",
              "8                 0.618895                -1.423493   \n",
              "\n",
              "   Number of Credit Problems  Current Credit Balance  Maximum Open Credit  \\\n",
              "0                   1.738236               -0.175240            -0.041813   \n",
              "2                   1.738236                0.011481            -0.001994   \n",
              "3                  -0.343571               -0.099972            -0.045371   \n",
              "6                   1.738236               -0.458827            -0.059097   \n",
              "8                  -0.343571                0.383752            -0.025293   \n",
              "\n",
              "   Bankruptcies  ...  Years in current job_6-10 years  \\\n",
              "0      2.543570  ...                                1   \n",
              "2     -0.331716  ...                                1   \n",
              "3     -0.331716  ...                                0   \n",
              "6      2.543570  ...                                0   \n",
              "8     -0.331716  ...                                0   \n",
              "\n",
              "   Years in current job_< 1 year  Home Ownership_HaveMortgage  \\\n",
              "0                              0                            0   \n",
              "2                              0                            0   \n",
              "3                              0                            0   \n",
              "6                              1                            0   \n",
              "8                              0                            0   \n",
              "\n",
              "   Home Ownership_Home Mortgage  Home Ownership_Own Home  Home Ownership_Rent  \\\n",
              "0                             1                        0                    0   \n",
              "2                             0                        1                    0   \n",
              "3                             0                        1                    0   \n",
              "6                             1                        0                    0   \n",
              "8                             0                        0                    1   \n",
              "\n",
              "   Purpose_Business  Purpose_Consumer credit  Purpose_Debt Consolidation  \\\n",
              "0                 0                        1                           0   \n",
              "2                 0                        0                           1   \n",
              "3                 0                        0                           1   \n",
              "6                 0                        0                           1   \n",
              "8                 0                        0                           1   \n",
              "\n",
              "   Purpose_Other  \n",
              "0              0  \n",
              "2              0  \n",
              "3              0  \n",
              "6              0  \n",
              "8              0  \n",
              "\n",
              "[5 rows x 24 columns]"
            ]
          },
          "execution_count": 22,
          "metadata": {},
          "output_type": "execute_result"
        }
      ],
      "source": [
        "train = temp_df[temp_df['Credit Score'].notnull()]\n",
        "train = train[train['Credit Score'] <= 800]\n",
        "train['Credit Score'] = object.fit_transform(train[['Credit Score']])\n",
        "temp_df['Credit Score'] = object.fit_transform(temp_df[['Credit Score']])\n",
        "train.head()"
      ]
    },
    {
      "cell_type": "markdown",
      "source": [
        "Будем использовать **xgboost**. Разобьем выборку, избавимся от лишних символов в названиях колонок (библиотека такое не любит). В качестве метрики ошибки будем использовать MSE - среднюю квадратичную ошибку."
      ],
      "metadata": {
        "id": "0cxUYxDXXakN"
      }
    },
    {
      "cell_type": "code",
      "execution_count": null,
      "metadata": {
        "colab": {
          "base_uri": "https://localhost:8080/"
        },
        "id": "vqqi3yC6RlMl",
        "outputId": "ca27e1d7-56db-4803-afa9-bd1cc392afed"
      },
      "outputs": [
        {
          "name": "stderr",
          "output_type": "stream",
          "text": [
            "C:\\Users\\Makellan\\anaconda3\\lib\\site-packages\\xgboost\\sklearn.py:1224: UserWarning: The use of label encoder in XGBClassifier is deprecated and will be removed in a future release. To remove this warning, do the following: 1) Pass option use_label_encoder=False when constructing XGBClassifier object; and 2) Encode your labels (y) as integers starting with 0, i.e. 0, 1, 2, ..., [num_class - 1].\n",
            "  warnings.warn(label_encoder_deprecation_msg, UserWarning)\n"
          ]
        },
        {
          "name": "stdout",
          "output_type": "stream",
          "text": [
            "[16:31:21] WARNING: C:/Users/Administrator/workspace/xgboost-win64_release_1.5.1/src/learner.cc:1115: Starting in XGBoost 1.3.0, the default evaluation metric used with the objective 'multi:softprob' was changed from 'merror' to 'mlogloss'. Explicitly set eval_metric if you'd like to restore the old behavior.\n",
            "MSE value:  0.8547017701833747\n"
          ]
        },
        {
          "data": {
            "text/plain": [
              "array([ 0.46998769,  0.97188516,  0.97188516, ..., -0.46210761,\n",
              "       -0.39040797, -0.39040797])"
            ]
          },
          "execution_count": 25,
          "metadata": {},
          "output_type": "execute_result"
        }
      ],
      "source": [
        "import re\n",
        "import xgboost\n",
        "from sklearn.metrics import mean_squared_error\n",
        "from sklearn.model_selection import train_test_split\n",
        "\n",
        "\n",
        "regex = re.compile(r\"\\[|\\]|<\", re.IGNORECASE)\n",
        "\n",
        "X = train.drop(['Credit Score'], axis=1)\n",
        "Y = train['Credit Score']\n",
        "\n",
        "X_train, X_test, Y_train, Y_test = train_test_split(X, Y, \n",
        "                                                    test_size=.20, random_state=0)\n",
        "\n",
        "X_train.columns = [regex.sub(\"_\", col) if any(x in str(col) for x in set(('[', ']', '<'))) else col for col in X_train.columns.values]\n",
        "X_test.columns = [regex.sub(\"_\", col) if any(x in str(col) for x in set(('[', ']', '<'))) else col for col in X_test.columns.values]\n",
        "\n",
        "model = xgboost.XGBClassifier()\n",
        "model.fit(X_train, Y_train)\n",
        "predict = model.predict(X_test)\n",
        "\n",
        "MSE = mean_squared_error(Y_test,predict)\n",
        "print(\"MSE value: \",MSE)\n",
        "predict"
      ]
    },
    {
      "cell_type": "markdown",
      "source": [
        "Предскажем скор на тестовой выборке и вставим предикшн на место пропусков."
      ],
      "metadata": {
        "id": "PPIt_GNPYXhr"
      }
    },
    {
      "cell_type": "code",
      "execution_count": null,
      "metadata": {
        "colab": {
          "base_uri": "https://localhost:8080/"
        },
        "id": "B0uIlDqaTr2P",
        "outputId": "2c2b6e01-c6b4-4cb7-8dbf-09ca22c67084"
      },
      "outputs": [
        {
          "data": {
            "text/plain": [
              "21135"
            ]
          },
          "execution_count": 26,
          "metadata": {},
          "output_type": "execute_result"
        }
      ],
      "source": [
        "test = temp_df[temp_df['Credit Score'].isnull() == True].drop(['Credit Score'], axis=1)\n",
        "test.columns = [regex.sub(\"_\", col) if any(x in str(col) for x in set(('[', ']', '<'))) else col for col in test.columns.values]\n",
        "xgboost_predict = model.predict(test)\n",
        "xgboost_predict.size"
      ]
    },
    {
      "cell_type": "code",
      "execution_count": null,
      "metadata": {
        "id": "n46idnGDv6z3"
      },
      "outputs": [],
      "source": [
        "temp_df.loc[temp_df['Credit Score'].isnull() == True, 'Credit Score'] = xgboost_predict"
      ]
    },
    {
      "cell_type": "markdown",
      "source": [
        "Вернем целевой столбец и маркер на место. Заменим значения **Fully Paid** на 1 и **Charged Off** на 1 соответственно. Убедимся, что избавились от всех пропусков."
      ],
      "metadata": {
        "id": "uKx5U8PZY4UE"
      }
    },
    {
      "cell_type": "code",
      "execution_count": null,
      "metadata": {
        "id": "UtdbwafyBEzR"
      },
      "outputs": [],
      "source": [
        "temp_df['Loan Status'] = markers['Loan Status']\n",
        "temp_df['is_test'] = markers['is_test']"
      ]
    },
    {
      "cell_type": "code",
      "execution_count": null,
      "metadata": {
        "id": "AN5MGq2ADc5K"
      },
      "outputs": [],
      "source": [
        "temp_df.loc[(df['Loan Status'] == 'Fully Paid'), 'Loan Status'] = 1\n",
        "temp_df.loc[(df['Loan Status'] == 'Charged Off'), 'Loan Status'] = 0"
      ]
    },
    {
      "cell_type": "code",
      "execution_count": null,
      "metadata": {
        "colab": {
          "base_uri": "https://localhost:8080/"
        },
        "id": "ZHmuWpqAxkTO",
        "outputId": "1d3b3ecd-e094-4249-d94f-6ec9722ccd8b"
      },
      "outputs": [
        {
          "data": {
            "text/plain": [
              "Current Loan Amount                    0\n",
              "Credit Score                           0\n",
              "Annual Income                          0\n",
              "Monthly Debt                           0\n",
              "Years of Credit History                0\n",
              "Number of Open Accounts                0\n",
              "Number of Credit Problems              0\n",
              "Current Credit Balance                 0\n",
              "Maximum Open Credit                    0\n",
              "Bankruptcies                           0\n",
              "Term_Long Term                         0\n",
              "Term_Short Term                        0\n",
              "Years in current job_1-6 years         0\n",
              "Years in current job_10+ years         0\n",
              "Years in current job_6-10 years        0\n",
              "Years in current job_< 1 year          0\n",
              "Home Ownership_HaveMortgage            0\n",
              "Home Ownership_Home Mortgage           0\n",
              "Home Ownership_Own Home                0\n",
              "Home Ownership_Rent                    0\n",
              "Purpose_Business                       0\n",
              "Purpose_Consumer credit                0\n",
              "Purpose_Debt Consolidation             0\n",
              "Purpose_Other                          0\n",
              "Loan Status                        10000\n",
              "is_test                                0\n",
              "dtype: int64"
            ]
          },
          "execution_count": 30,
          "metadata": {},
          "output_type": "execute_result"
        }
      ],
      "source": [
        "temp_df.isnull().sum()"
      ]
    },
    {
      "cell_type": "markdown",
      "source": [
        "Можем переходить к предсказанию целевой переменной. Обучаться будем на **train** предсказывать на **test**."
      ],
      "metadata": {
        "id": "EyLAh8YEZgPi"
      }
    },
    {
      "cell_type": "code",
      "execution_count": null,
      "metadata": {
        "id": "KApbIKPbzH82"
      },
      "outputs": [],
      "source": [
        "train = temp_df[temp_df['Loan Status'].isnull() == False]\n",
        "test = temp_df[temp_df['Loan Status'].isnull() == True]"
      ]
    },
    {
      "cell_type": "code",
      "execution_count": null,
      "metadata": {
        "id": "lNEIeICs0CAm"
      },
      "outputs": [],
      "source": [
        "X = train.drop(['Loan Status', 'is_test'], axis=1)\n",
        "y = train['Loan Status']"
      ]
    },
    {
      "cell_type": "code",
      "execution_count": null,
      "metadata": {
        "id": "YsCjcH8V0Hz9"
      },
      "outputs": [],
      "source": [
        "X_train, X_test, y_train, y_test = train_test_split(X, y, test_size=0.33, random_state=28)\n",
        "y_train=y_train.astype('int') \n",
        "y_test=y_test.astype('int') "
      ]
    },
    {
      "cell_type": "markdown",
      "source": [
        "Предсказывать будем также с помощью xgboost, но в данном случае сделаем подбор параметров но grid сетке."
      ],
      "metadata": {
        "id": "8zSC0nPAZ4zr"
      }
    },
    {
      "cell_type": "code",
      "execution_count": null,
      "metadata": {
        "colab": {
          "base_uri": "https://localhost:8080/"
        },
        "id": "g_X1AwrD2Q4W",
        "outputId": "1f0235ec-07e6-4691-b8a0-11bff0de2553"
      },
      "outputs": [
        {
          "name": "stdout",
          "output_type": "stream",
          "text": [
            "Fitting 10 folds for each of 96 candidates, totalling 960 fits\n"
          ]
        },
        {
          "name": "stderr",
          "output_type": "stream",
          "text": [
            "C:\\Users\\Makellan\\anaconda3\\lib\\site-packages\\xgboost\\sklearn.py:1224: UserWarning: The use of label encoder in XGBClassifier is deprecated and will be removed in a future release. To remove this warning, do the following: 1) Pass option use_label_encoder=False when constructing XGBClassifier object; and 2) Encode your labels (y) as integers starting with 0, i.e. 0, 1, 2, ..., [num_class - 1].\n",
            "  warnings.warn(label_encoder_deprecation_msg, UserWarning)\n"
          ]
        },
        {
          "name": "stdout",
          "output_type": "stream",
          "text": [
            "[17:27:46] WARNING: C:/Users/Administrator/workspace/xgboost-win64_release_1.5.1/src/learner.cc:1115: Starting in XGBoost 1.3.0, the default evaluation metric used with the objective 'binary:logistic' was changed from 'error' to 'logloss'. Explicitly set eval_metric if you'd like to restore the old behavior.\n",
            "Best: 0.799933 using {'learning_rate': 0.05, 'max_depth': 8, 'n_estimators': 100}\n"
          ]
        }
      ],
      "source": [
        "from numpy.core.numeric import binary_repr\n",
        "from sklearn.model_selection import GridSearchCV\n",
        "from sklearn.model_selection import StratifiedKFold\n",
        "\n",
        "\n",
        "X = train.drop(['Loan Status', 'is_test'], axis=1)\n",
        "Y = train['Loan Status']\n",
        "\n",
        "X.columns = [regex.sub(\"_\", col) if any(x in str(col) for x in set(('[', ']', '<'))) else col for col in X.columns.values]\n",
        "Y=Y.astype('int') \n",
        "\n",
        "X_train, X_test, Y_train, Y_test = train_test_split(X, Y, \n",
        "                                                    test_size=.20, random_state=0) \n",
        "\n",
        "\n",
        "\n",
        "\n",
        "\n",
        "model = xgboost.XGBClassifier(objective= 'binary:logistic', nthread=4, seed=42)\n",
        "\n",
        "\n",
        "parameters = {\n",
        "              'max_depth': range (2, 10, 1),\n",
        "              'n_estimators': range(60, 220, 40),\n",
        "              'learning_rate': [0.1, 0.01, 0.05]\n",
        "              }\n",
        "\n",
        "grid_search = GridSearchCV(model, parameters, n_jobs=10, \n",
        "                   cv=10, \n",
        "                   scoring='accuracy',\n",
        "                   verbose=True)\n",
        "grid_result = grid_search.fit(X, Y)\n",
        "\n",
        "print(\"Best: %f using %s\" % (grid_result.best_score_, grid_result.best_params_))"
      ]
    },
    {
      "cell_type": "markdown",
      "source": [
        "Я столько ждал ради accuracy 0.79 \\😞/\n",
        "Ну чтож, попробуем прогнать данные через модель с полученными параметрами."
      ],
      "metadata": {
        "id": "agj2Ciana3bv"
      }
    },
    {
      "cell_type": "code",
      "execution_count": null,
      "metadata": {
        "id": "62TwAK1waYq9",
        "outputId": "011b2a3f-7995-46c9-e8a4-fae11537bf9f"
      },
      "outputs": [
        {
          "name": "stdout",
          "output_type": "stream",
          "text": [
            "[21:20:39] WARNING: C:/Users/Administrator/workspace/xgboost-win64_release_1.5.1/src/learner.cc:1115: Starting in XGBoost 1.3.0, the default evaluation metric used with the objective 'binary:logistic' was changed from 'error' to 'logloss'. Explicitly set eval_metric if you'd like to restore the old behavior.\n",
            "MSE value:  0.7972935345547697\n"
          ]
        }
      ],
      "source": [
        "from sklearn.metrics import accuracy_score\n",
        "\n",
        "model = xgboost.XGBClassifier(objective= 'binary:logistic', nthread=4, seed=42, learning_rate = 0.05, max_depth = 8, n_estimators = 100)\n",
        "model.fit(X_train, Y_train)\n",
        "predict = model.predict(X_test)\n",
        "accuracy = accuracy_score(Y_test,predict)\n",
        "print(\"MSE value: \",accuracy)"
      ]
    },
    {
      "cell_type": "markdown",
      "source": [
        "Сделаем предикт на тесте, подготовим итоговый датафрейм. Сабмит готов!"
      ],
      "metadata": {
        "id": "nSE2lOJ6bgU1"
      }
    },
    {
      "cell_type": "code",
      "execution_count": null,
      "metadata": {
        "id": "KpXsdJyQNE3n"
      },
      "outputs": [],
      "source": [
        "X_test = test.drop(['Loan Status', 'is_test'], axis=1)\n",
        "Y_test = test['Loan Status']"
      ]
    },
    {
      "cell_type": "code",
      "execution_count": null,
      "metadata": {
        "id": "wS631lqyagRG"
      },
      "outputs": [],
      "source": [
        "predict = model.predict(X_test)\n",
        "test = pd.read_csv('sample_data/credit_test.csv')\n",
        "predict = pd.DataFrame(predict)\n",
        "predict.loc[(predict[0] == 1), 0] = 'Fully Paid'\n",
        "predict.loc[(predict[0] == 0), 0] = 'Charged Off'\n",
        "\n",
        "output = pd.DataFrame({'Loan ID':test['Loan ID'],'Loan Status':predict[0]})\n",
        "output.to_csv('submission.csv', index=False)"
      ]
    },
    {
      "cell_type": "code",
      "execution_count": null,
      "metadata": {
        "id": "IkykjY9eW-MT"
      },
      "outputs": [],
      "source": [
        ""
      ]
    }
  ],
  "metadata": {
    "colab": {
      "name": "Credit scoring competition.ipynb",
      "provenance": []
    },
    "kernelspec": {
      "display_name": "Python 3 (ipykernel)",
      "language": "python",
      "name": "python3"
    },
    "language_info": {
      "codemirror_mode": {
        "name": "ipython",
        "version": 3
      },
      "file_extension": ".py",
      "mimetype": "text/x-python",
      "name": "python",
      "nbconvert_exporter": "python",
      "pygments_lexer": "ipython3",
      "version": "3.9.7"
    }
  },
  "nbformat": 4,
  "nbformat_minor": 0
}